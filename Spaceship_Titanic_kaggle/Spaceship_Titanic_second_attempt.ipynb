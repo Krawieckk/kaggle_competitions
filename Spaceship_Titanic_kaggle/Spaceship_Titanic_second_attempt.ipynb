{
  "nbformat": 4,
  "nbformat_minor": 0,
  "metadata": {
    "colab": {
      "provenance": [],
      "authorship_tag": "ABX9TyMsEUzCHelnCRnVmJDQQZ31",
      "include_colab_link": true
    },
    "kernelspec": {
      "name": "python3",
      "display_name": "Python 3"
    },
    "language_info": {
      "name": "python"
    }
  },
  "cells": [
    {
      "cell_type": "markdown",
      "metadata": {
        "id": "view-in-github",
        "colab_type": "text"
      },
      "source": [
        "<a href=\"https://colab.research.google.com/github/Krawieckk/kaggle_competitions/blob/main/Spaceship_Titanic_kaggle/Spaceship_Titanic_second_attempt.ipynb\" target=\"_parent\"><img src=\"https://colab.research.google.com/assets/colab-badge.svg\" alt=\"Open In Colab\"/></a>"
      ]
    },
    {
      "cell_type": "code",
      "execution_count": 619,
      "metadata": {
        "id": "lDgwsEEtf0sw"
      },
      "outputs": [],
      "source": [
        "import numpy as np\n",
        "import pandas as pd"
      ]
    },
    {
      "cell_type": "code",
      "source": [
        "raw_train_data = pd.read_csv('train.csv')\n",
        "raw_test_data = pd.read_csv('test.csv')"
      ],
      "metadata": {
        "id": "7JSKxmiwgCT7"
      },
      "execution_count": 620,
      "outputs": []
    },
    {
      "cell_type": "code",
      "source": [
        "train_data = raw_train_data.copy()\n",
        "test_data = raw_test_data.copy()"
      ],
      "metadata": {
        "id": "8m7wurBkgIh0"
      },
      "execution_count": 621,
      "outputs": []
    },
    {
      "cell_type": "code",
      "source": [
        "train_data.info()"
      ],
      "metadata": {
        "colab": {
          "base_uri": "https://localhost:8080/"
        },
        "id": "Z0eP5qXygLZf",
        "outputId": "d9e02e68-960c-4d62-e42a-67a03fc342bb"
      },
      "execution_count": 622,
      "outputs": [
        {
          "output_type": "stream",
          "name": "stdout",
          "text": [
            "<class 'pandas.core.frame.DataFrame'>\n",
            "RangeIndex: 8693 entries, 0 to 8692\n",
            "Data columns (total 14 columns):\n",
            " #   Column        Non-Null Count  Dtype  \n",
            "---  ------        --------------  -----  \n",
            " 0   PassengerId   8693 non-null   object \n",
            " 1   HomePlanet    8492 non-null   object \n",
            " 2   CryoSleep     8476 non-null   object \n",
            " 3   Cabin         8494 non-null   object \n",
            " 4   Destination   8511 non-null   object \n",
            " 5   Age           8514 non-null   float64\n",
            " 6   VIP           8490 non-null   object \n",
            " 7   RoomService   8512 non-null   float64\n",
            " 8   FoodCourt     8510 non-null   float64\n",
            " 9   ShoppingMall  8485 non-null   float64\n",
            " 10  Spa           8510 non-null   float64\n",
            " 11  VRDeck        8505 non-null   float64\n",
            " 12  Name          8493 non-null   object \n",
            " 13  Transported   8693 non-null   bool   \n",
            "dtypes: bool(1), float64(6), object(7)\n",
            "memory usage: 891.5+ KB\n"
          ]
        }
      ]
    },
    {
      "cell_type": "code",
      "source": [
        "test_data.info()"
      ],
      "metadata": {
        "colab": {
          "base_uri": "https://localhost:8080/"
        },
        "id": "wQ1uvgbngNKc",
        "outputId": "5f326e42-0a59-43de-dc83-f2642e4245e0"
      },
      "execution_count": 623,
      "outputs": [
        {
          "output_type": "stream",
          "name": "stdout",
          "text": [
            "<class 'pandas.core.frame.DataFrame'>\n",
            "RangeIndex: 4277 entries, 0 to 4276\n",
            "Data columns (total 13 columns):\n",
            " #   Column        Non-Null Count  Dtype  \n",
            "---  ------        --------------  -----  \n",
            " 0   PassengerId   4277 non-null   object \n",
            " 1   HomePlanet    4190 non-null   object \n",
            " 2   CryoSleep     4184 non-null   object \n",
            " 3   Cabin         4177 non-null   object \n",
            " 4   Destination   4185 non-null   object \n",
            " 5   Age           4186 non-null   float64\n",
            " 6   VIP           4184 non-null   object \n",
            " 7   RoomService   4195 non-null   float64\n",
            " 8   FoodCourt     4171 non-null   float64\n",
            " 9   ShoppingMall  4179 non-null   float64\n",
            " 10  Spa           4176 non-null   float64\n",
            " 11  VRDeck        4197 non-null   float64\n",
            " 12  Name          4183 non-null   object \n",
            "dtypes: float64(6), object(7)\n",
            "memory usage: 434.5+ KB\n"
          ]
        }
      ]
    },
    {
      "cell_type": "markdown",
      "source": [
        "# Preprocessing"
      ],
      "metadata": {
        "id": "KsYJFZCDgREc"
      }
    },
    {
      "cell_type": "code",
      "source": [
        "train_data.columns = [x.lower() for x in train_data.columns]\n",
        "test_data.columns = [x.lower() for x in test_data.columns]"
      ],
      "metadata": {
        "id": "QtfZyYFOgUC4"
      },
      "execution_count": 624,
      "outputs": []
    },
    {
      "cell_type": "code",
      "source": [
        "train_data['passenger_group'] = train_data['passengerid'].str[0:4].astype('int64')\n",
        "test_data['passenger_group'] = test_data['passengerid'].str[0:4].astype('int64')"
      ],
      "metadata": {
        "id": "Trlr4maGgYBk"
      },
      "execution_count": 625,
      "outputs": []
    },
    {
      "cell_type": "markdown",
      "source": [
        "Total Bill Solution 1 (using np.nansum)"
      ],
      "metadata": {
        "id": "jiHcTKpKggnh"
      }
    },
    {
      "cell_type": "code",
      "source": [
        "train_data_total_bill_list = []\n",
        "for i in range(len(train_data)):\n",
        "  bill = np.nansum([train_data.iloc[i].roomservice, train_data.iloc[i].foodcourt, train_data.iloc[i].shoppingmall, train_data.iloc[i].spa, train_data.iloc[i].vrdeck])\n",
        "  train_data_total_bill_list.append(bill)\n",
        "\n",
        "test_data_total_bill_list = []\n",
        "for i in range(len(test_data)):\n",
        "  bill = np.nansum([test_data.iloc[i].roomservice, test_data.iloc[i].foodcourt, test_data.iloc[i].shoppingmall, test_data.iloc[i].spa, test_data.iloc[i].vrdeck])\n",
        "  test_data_total_bill_list.append(bill)\n",
        "\n",
        "train_data['total_bill'] = train_data_total_bill_list\n",
        "test_data['total_bill'] = test_data_total_bill_list"
      ],
      "metadata": {
        "id": "MHH-eaQ9glXN"
      },
      "execution_count": 626,
      "outputs": []
    },
    {
      "cell_type": "markdown",
      "source": [
        "// Total Bill SOlution 1"
      ],
      "metadata": {
        "id": "uRSuOKebG0gh"
      }
    },
    {
      "cell_type": "markdown",
      "source": [
        "Total Bill Solution 2 (using SimpleImputer)"
      ],
      "metadata": {
        "id": "5j36XR8uGpj9"
      }
    },
    {
      "cell_type": "code",
      "source": [
        "# service_features = ['roomservice', 'foodcourt', 'shoppingmall', 'spa', 'vrdeck']\n",
        "\n",
        "# train_data[service_features].isna().sum()"
      ],
      "metadata": {
        "id": "kG_9Yqdt_-X6"
      },
      "execution_count": 627,
      "outputs": []
    },
    {
      "cell_type": "code",
      "source": [
        "# from sklearn.impute import SimpleImputer\n",
        "# from sklearn.compose import ColumnTransformer\n",
        "\n",
        "# num_imputer = SimpleImputer(strategy='median')\n",
        "# num_features = ['roomservice', 'foodcourt', 'shoppingmall', 'spa', 'vrdeck']\n",
        "\n",
        "# imputer = ColumnTransformer([\n",
        "#     ('num_imputer', num_imputer, num_features)\n",
        "# ])"
      ],
      "metadata": {
        "id": "aRUmNIVe-u7n"
      },
      "execution_count": 628,
      "outputs": []
    },
    {
      "cell_type": "code",
      "source": [
        "# train_filled_services = imputer.fit_transform(train_data)\n",
        "# test_filled_services = imputer.fit_transform(test_data)\n",
        "\n",
        "# train_filled_services"
      ],
      "metadata": {
        "id": "xqYLnwEzA33u"
      },
      "execution_count": 629,
      "outputs": []
    },
    {
      "cell_type": "code",
      "source": [
        "# train_services_filled = pd.DataFrame(train_filled_services, columns=service_features)\n",
        "# test_services_filled = pd.DataFrame(test_filled_services, columns=service_features)"
      ],
      "metadata": {
        "id": "CY_GWMVLBME5"
      },
      "execution_count": 630,
      "outputs": []
    },
    {
      "cell_type": "code",
      "source": [
        "# train_services_filled.isna().sum()\n",
        "# test_services_filled.isna().sum()"
      ],
      "metadata": {
        "id": "YmpB1eMOBeXW"
      },
      "execution_count": 631,
      "outputs": []
    },
    {
      "cell_type": "code",
      "source": [
        "# train_services_filled['total_bill'] = train_services_filled.roomservice + train_services_filled.foodcourt + train_services_filled.shoppingmall + train_services_filled.spa + train_services_filled.vrdeck\n",
        "# test_services_filled['total_bill'] = test_services_filled.roomservice + test_services_filled.foodcourt + test_services_filled.shoppingmall + test_services_filled.spa + test_services_filled.vrdeck"
      ],
      "metadata": {
        "id": "343wSTQqEwTV"
      },
      "execution_count": 632,
      "outputs": []
    },
    {
      "cell_type": "code",
      "source": [
        "# train_data['total_bill'] = list(train_services_filled.total_bill)\n",
        "# test_data['total_bill'] = list(test_services_filled.total_bill)"
      ],
      "metadata": {
        "id": "OhphfeyQGK1I"
      },
      "execution_count": 633,
      "outputs": []
    },
    {
      "cell_type": "code",
      "source": [
        "# train_data.head()"
      ],
      "metadata": {
        "id": "Hi8TyAMSGYRt"
      },
      "execution_count": 634,
      "outputs": []
    },
    {
      "cell_type": "markdown",
      "source": [
        "// Total Bill Solution 2"
      ],
      "metadata": {
        "id": "-MOuDxtv73nQ"
      }
    },
    {
      "cell_type": "code",
      "source": [
        "services = ['roomservice', 'foodcourt', 'shoppingmall', 'spa', 'vrdeck']\n",
        "\n",
        "train_data = train_data.drop(columns = services)\n",
        "test_data = test_data.drop(columns = services)"
      ],
      "metadata": {
        "id": "ZvEWftDfg-Z-"
      },
      "execution_count": 635,
      "outputs": []
    },
    {
      "cell_type": "code",
      "source": [
        "train_data.info()"
      ],
      "metadata": {
        "colab": {
          "base_uri": "https://localhost:8080/"
        },
        "id": "mKEMLgfLhBjS",
        "outputId": "f9dc67a1-6a9e-4280-a5af-3431bc7fa510"
      },
      "execution_count": 636,
      "outputs": [
        {
          "output_type": "stream",
          "name": "stdout",
          "text": [
            "<class 'pandas.core.frame.DataFrame'>\n",
            "RangeIndex: 8693 entries, 0 to 8692\n",
            "Data columns (total 11 columns):\n",
            " #   Column           Non-Null Count  Dtype  \n",
            "---  ------           --------------  -----  \n",
            " 0   passengerid      8693 non-null   object \n",
            " 1   homeplanet       8492 non-null   object \n",
            " 2   cryosleep        8476 non-null   object \n",
            " 3   cabin            8494 non-null   object \n",
            " 4   destination      8511 non-null   object \n",
            " 5   age              8514 non-null   float64\n",
            " 6   vip              8490 non-null   object \n",
            " 7   name             8493 non-null   object \n",
            " 8   transported      8693 non-null   bool   \n",
            " 9   passenger_group  8693 non-null   int64  \n",
            " 10  total_bill       8693 non-null   float64\n",
            "dtypes: bool(1), float64(2), int64(1), object(7)\n",
            "memory usage: 687.8+ KB\n"
          ]
        }
      ]
    },
    {
      "cell_type": "code",
      "source": [
        "train_data.value_counts('homeplanet')"
      ],
      "metadata": {
        "colab": {
          "base_uri": "https://localhost:8080/"
        },
        "id": "GfEVfrYchIFE",
        "outputId": "2a0948ab-aa50-4b04-adb3-f12f50862652"
      },
      "execution_count": 637,
      "outputs": [
        {
          "output_type": "execute_result",
          "data": {
            "text/plain": [
              "homeplanet\n",
              "Earth     4602\n",
              "Europa    2131\n",
              "Mars      1759\n",
              "dtype: int64"
            ]
          },
          "metadata": {},
          "execution_count": 637
        }
      ]
    },
    {
      "cell_type": "code",
      "source": [
        "train_data_homeplanets = list(train_data.homeplanet)\n",
        "\n",
        "for i in range(len(train_data_homeplanets)):\n",
        "  curr_homeplanet = train_data_homeplanets[i]\n",
        "  if curr_homeplanet == 'Earth':\n",
        "    train_data_homeplanets[i] = 0\n",
        "\n",
        "  elif curr_homeplanet == 'Europa':\n",
        "    train_data_homeplanets[i] = 1\n",
        "\n",
        "  elif curr_homeplanet == 'Mars':\n",
        "    train_data_homeplanets[i] = 2\n",
        "\n",
        "train_data['homeplanet'] = train_data_homeplanets\n",
        "\n",
        "\n",
        "test_data_homeplanets = list(test_data.homeplanet)\n",
        "\n",
        "for i in range(len(test_data_homeplanets)):\n",
        "  curr_homeplanet = test_data_homeplanets[i]\n",
        "  if curr_homeplanet == 'Earth':\n",
        "    test_data_homeplanets[i] = 0\n",
        "\n",
        "  elif curr_homeplanet == 'Europa':\n",
        "    test_data_homeplanets[i] = 1\n",
        "\n",
        "  elif curr_homeplanet == 'Mars':\n",
        "    test_data_homeplanets[i] = 2\n",
        "\n",
        "test_data['homeplanet'] = test_data_homeplanets"
      ],
      "metadata": {
        "id": "QadFgpjShPP_"
      },
      "execution_count": 638,
      "outputs": []
    },
    {
      "cell_type": "code",
      "source": [
        "# type_dict = {\n",
        "#     'cryosleep': int,\n",
        "#     'vip': int,\n",
        "# }\n",
        "\n",
        "# train_data = train_data.astype(type_dict).astype({'transported': bool})\n",
        "# test_data = test_data.astype(type_dict)"
      ],
      "metadata": {
        "id": "KfQ_PbVVhdRt"
      },
      "execution_count": 639,
      "outputs": []
    },
    {
      "cell_type": "code",
      "source": [
        "train_data.info()"
      ],
      "metadata": {
        "colab": {
          "base_uri": "https://localhost:8080/"
        },
        "id": "UuWsGgqxidMc",
        "outputId": "416601ca-c9a1-4dbf-e5e7-2400fe328836"
      },
      "execution_count": 640,
      "outputs": [
        {
          "output_type": "stream",
          "name": "stdout",
          "text": [
            "<class 'pandas.core.frame.DataFrame'>\n",
            "RangeIndex: 8693 entries, 0 to 8692\n",
            "Data columns (total 11 columns):\n",
            " #   Column           Non-Null Count  Dtype  \n",
            "---  ------           --------------  -----  \n",
            " 0   passengerid      8693 non-null   object \n",
            " 1   homeplanet       8492 non-null   float64\n",
            " 2   cryosleep        8476 non-null   object \n",
            " 3   cabin            8494 non-null   object \n",
            " 4   destination      8511 non-null   object \n",
            " 5   age              8514 non-null   float64\n",
            " 6   vip              8490 non-null   object \n",
            " 7   name             8493 non-null   object \n",
            " 8   transported      8693 non-null   bool   \n",
            " 9   passenger_group  8693 non-null   int64  \n",
            " 10  total_bill       8693 non-null   float64\n",
            "dtypes: bool(1), float64(3), int64(1), object(6)\n",
            "memory usage: 687.8+ KB\n"
          ]
        }
      ]
    },
    {
      "cell_type": "code",
      "source": [
        "test_data.info()"
      ],
      "metadata": {
        "colab": {
          "base_uri": "https://localhost:8080/"
        },
        "id": "SCgith4kih3D",
        "outputId": "084f8399-8b6e-4c8b-e857-af405d6be179"
      },
      "execution_count": 641,
      "outputs": [
        {
          "output_type": "stream",
          "name": "stdout",
          "text": [
            "<class 'pandas.core.frame.DataFrame'>\n",
            "RangeIndex: 4277 entries, 0 to 4276\n",
            "Data columns (total 10 columns):\n",
            " #   Column           Non-Null Count  Dtype  \n",
            "---  ------           --------------  -----  \n",
            " 0   passengerid      4277 non-null   object \n",
            " 1   homeplanet       4190 non-null   float64\n",
            " 2   cryosleep        4184 non-null   object \n",
            " 3   cabin            4177 non-null   object \n",
            " 4   destination      4185 non-null   object \n",
            " 5   age              4186 non-null   float64\n",
            " 6   vip              4184 non-null   object \n",
            " 7   name             4183 non-null   object \n",
            " 8   passenger_group  4277 non-null   int64  \n",
            " 9   total_bill       4277 non-null   float64\n",
            "dtypes: float64(3), int64(1), object(6)\n",
            "memory usage: 334.3+ KB\n"
          ]
        }
      ]
    },
    {
      "cell_type": "code",
      "source": [
        "train_data = train_data.set_index('passengerid')\n",
        "test_data = test_data.set_index('passengerid')"
      ],
      "metadata": {
        "id": "AaNucmhhioHo"
      },
      "execution_count": 642,
      "outputs": []
    },
    {
      "cell_type": "code",
      "source": [
        "train_data.value_counts('destination')"
      ],
      "metadata": {
        "colab": {
          "base_uri": "https://localhost:8080/"
        },
        "id": "NVIqbm6piyNo",
        "outputId": "d33e79b3-1fe3-41fd-bedb-7c7af0cc76ac"
      },
      "execution_count": 643,
      "outputs": [
        {
          "output_type": "execute_result",
          "data": {
            "text/plain": [
              "destination\n",
              "TRAPPIST-1e      5915\n",
              "55 Cancri e      1800\n",
              "PSO J318.5-22     796\n",
              "dtype: int64"
            ]
          },
          "metadata": {},
          "execution_count": 643
        }
      ]
    },
    {
      "cell_type": "code",
      "source": [
        "def destination_to_num(destination):\n",
        "  if destination == 'TRAPPIST-1e':\n",
        "    return 0\n",
        "  elif destination == '55 Cancri e':\n",
        "    return 1\n",
        "  elif destination == 'PSO J318.5-22':\n",
        "    return 2\n",
        "  else:\n",
        "    return np.nan\n",
        "\n",
        "train_data['destination'] = list(map(destination_to_num, train_data.destination))\n",
        "test_data['destination'] = list(map(destination_to_num, test_data.destination))"
      ],
      "metadata": {
        "id": "gwJPfdDTi42T"
      },
      "execution_count": 644,
      "outputs": []
    },
    {
      "cell_type": "code",
      "source": [
        "def get_deck(cabin):\n",
        "  if cabin == 'unknown':\n",
        "    return np.nan\n",
        "  else:\n",
        "    return cabin[0]\n",
        "\n",
        "train_data_cabin = train_data.cabin.fillna('unknown')\n",
        "test_data_cabin = test_data.cabin.fillna('unknown')\n",
        "\n",
        "print(pd.Series(list(map(get_deck, train_data_cabin))).value_counts())\n",
        "print(pd.Series(list(map(get_deck, test_data_cabin))).value_counts())"
      ],
      "metadata": {
        "colab": {
          "base_uri": "https://localhost:8080/"
        },
        "id": "xqlIscaEjS1o",
        "outputId": "986a72a0-de67-4e99-a5f1-86524ca1054d"
      },
      "execution_count": 645,
      "outputs": [
        {
          "output_type": "stream",
          "name": "stdout",
          "text": [
            "F    2794\n",
            "G    2559\n",
            "E     876\n",
            "B     779\n",
            "C     747\n",
            "D     478\n",
            "A     256\n",
            "T       5\n",
            "dtype: int64\n",
            "F    1445\n",
            "G    1222\n",
            "E     447\n",
            "B     362\n",
            "C     355\n",
            "D     242\n",
            "A      98\n",
            "T       6\n",
            "dtype: int64\n"
          ]
        }
      ]
    },
    {
      "cell_type": "code",
      "source": [
        "def deck_to_num(deck):\n",
        "  if deck == 'unknown':\n",
        "    return np.nan\n",
        "\n",
        "  elif deck == 'A':\n",
        "    return 0\n",
        "\n",
        "  elif deck == 'B':\n",
        "    return 1\n",
        "\n",
        "  elif deck == 'C':\n",
        "    return 2\n",
        "\n",
        "  elif deck == 'D':\n",
        "    return 3\n",
        "\n",
        "  elif deck == 'E':\n",
        "    return 4\n",
        "\n",
        "  elif deck == 'F':\n",
        "    return 5\n",
        "\n",
        "  elif deck == 'G':\n",
        "    return 6\n",
        "\n",
        "  elif deck == 'T':\n",
        "    return 7\n",
        "\n",
        "\n",
        "train_data_decks = list(pd.Series(list(map(get_deck, train_data_cabin))).fillna('unknown'))\n",
        "test_data_decks = list(pd.Series(list(map(get_deck, test_data_cabin))).fillna('unknown'))\n",
        "\n",
        "train_data['cabin_deck'] = list(map(deck_to_num, train_data_decks))\n",
        "test_data['cabin_deck'] = list(map(deck_to_num, test_data_decks))"
      ],
      "metadata": {
        "id": "FQDipUU6leY0"
      },
      "execution_count": 646,
      "outputs": []
    },
    {
      "cell_type": "code",
      "source": [
        "def get_num(cabin):\n",
        "  if cabin == 'unknown':\n",
        "    return np.nan\n",
        "\n",
        "  cabin_num = cabin.split('/')[1]\n",
        "  return cabin_num\n",
        "\n",
        "train_data_num_list = list(map(get_num, train_data.cabin.fillna('unknown')))\n",
        "test_data_num_list = list(map(get_num, test_data.cabin.fillna('unknown')))\n",
        "\n",
        "train_data['cabin_num'] = train_data_num_list\n",
        "test_data['cabin_num'] = test_data_num_list"
      ],
      "metadata": {
        "id": "IwTzdKx0oItU"
      },
      "execution_count": 647,
      "outputs": []
    },
    {
      "cell_type": "code",
      "source": [
        "train_data.head()"
      ],
      "metadata": {
        "colab": {
          "base_uri": "https://localhost:8080/",
          "height": 237
        },
        "id": "dxaSsWV2pq93",
        "outputId": "ebba43ea-3ad0-478c-832b-38fd9651a321"
      },
      "execution_count": 648,
      "outputs": [
        {
          "output_type": "execute_result",
          "data": {
            "text/plain": [
              "             homeplanet cryosleep  cabin  destination   age    vip  \\\n",
              "passengerid                                                          \n",
              "0001_01             1.0     False  B/0/P          0.0  39.0  False   \n",
              "0002_01             0.0     False  F/0/S          0.0  24.0  False   \n",
              "0003_01             1.0     False  A/0/S          0.0  58.0   True   \n",
              "0003_02             1.0     False  A/0/S          0.0  33.0  False   \n",
              "0004_01             0.0     False  F/1/S          0.0  16.0  False   \n",
              "\n",
              "                          name  transported  passenger_group  total_bill  \\\n",
              "passengerid                                                                \n",
              "0001_01        Maham Ofracculy        False                1         0.0   \n",
              "0002_01           Juanna Vines         True                2       736.0   \n",
              "0003_01          Altark Susent        False                3     10383.0   \n",
              "0003_02           Solam Susent        False                3      5176.0   \n",
              "0004_01      Willy Santantines         True                4      1091.0   \n",
              "\n",
              "             cabin_deck cabin_num  \n",
              "passengerid                        \n",
              "0001_01             1.0         0  \n",
              "0002_01             5.0         0  \n",
              "0003_01             0.0         0  \n",
              "0003_02             0.0         0  \n",
              "0004_01             5.0         1  "
            ],
            "text/html": [
              "\n",
              "  <div id=\"df-66efdf1c-cbbf-4a54-99df-2fb8dfebb00b\" class=\"colab-df-container\">\n",
              "    <div>\n",
              "<style scoped>\n",
              "    .dataframe tbody tr th:only-of-type {\n",
              "        vertical-align: middle;\n",
              "    }\n",
              "\n",
              "    .dataframe tbody tr th {\n",
              "        vertical-align: top;\n",
              "    }\n",
              "\n",
              "    .dataframe thead th {\n",
              "        text-align: right;\n",
              "    }\n",
              "</style>\n",
              "<table border=\"1\" class=\"dataframe\">\n",
              "  <thead>\n",
              "    <tr style=\"text-align: right;\">\n",
              "      <th></th>\n",
              "      <th>homeplanet</th>\n",
              "      <th>cryosleep</th>\n",
              "      <th>cabin</th>\n",
              "      <th>destination</th>\n",
              "      <th>age</th>\n",
              "      <th>vip</th>\n",
              "      <th>name</th>\n",
              "      <th>transported</th>\n",
              "      <th>passenger_group</th>\n",
              "      <th>total_bill</th>\n",
              "      <th>cabin_deck</th>\n",
              "      <th>cabin_num</th>\n",
              "    </tr>\n",
              "    <tr>\n",
              "      <th>passengerid</th>\n",
              "      <th></th>\n",
              "      <th></th>\n",
              "      <th></th>\n",
              "      <th></th>\n",
              "      <th></th>\n",
              "      <th></th>\n",
              "      <th></th>\n",
              "      <th></th>\n",
              "      <th></th>\n",
              "      <th></th>\n",
              "      <th></th>\n",
              "      <th></th>\n",
              "    </tr>\n",
              "  </thead>\n",
              "  <tbody>\n",
              "    <tr>\n",
              "      <th>0001_01</th>\n",
              "      <td>1.0</td>\n",
              "      <td>False</td>\n",
              "      <td>B/0/P</td>\n",
              "      <td>0.0</td>\n",
              "      <td>39.0</td>\n",
              "      <td>False</td>\n",
              "      <td>Maham Ofracculy</td>\n",
              "      <td>False</td>\n",
              "      <td>1</td>\n",
              "      <td>0.0</td>\n",
              "      <td>1.0</td>\n",
              "      <td>0</td>\n",
              "    </tr>\n",
              "    <tr>\n",
              "      <th>0002_01</th>\n",
              "      <td>0.0</td>\n",
              "      <td>False</td>\n",
              "      <td>F/0/S</td>\n",
              "      <td>0.0</td>\n",
              "      <td>24.0</td>\n",
              "      <td>False</td>\n",
              "      <td>Juanna Vines</td>\n",
              "      <td>True</td>\n",
              "      <td>2</td>\n",
              "      <td>736.0</td>\n",
              "      <td>5.0</td>\n",
              "      <td>0</td>\n",
              "    </tr>\n",
              "    <tr>\n",
              "      <th>0003_01</th>\n",
              "      <td>1.0</td>\n",
              "      <td>False</td>\n",
              "      <td>A/0/S</td>\n",
              "      <td>0.0</td>\n",
              "      <td>58.0</td>\n",
              "      <td>True</td>\n",
              "      <td>Altark Susent</td>\n",
              "      <td>False</td>\n",
              "      <td>3</td>\n",
              "      <td>10383.0</td>\n",
              "      <td>0.0</td>\n",
              "      <td>0</td>\n",
              "    </tr>\n",
              "    <tr>\n",
              "      <th>0003_02</th>\n",
              "      <td>1.0</td>\n",
              "      <td>False</td>\n",
              "      <td>A/0/S</td>\n",
              "      <td>0.0</td>\n",
              "      <td>33.0</td>\n",
              "      <td>False</td>\n",
              "      <td>Solam Susent</td>\n",
              "      <td>False</td>\n",
              "      <td>3</td>\n",
              "      <td>5176.0</td>\n",
              "      <td>0.0</td>\n",
              "      <td>0</td>\n",
              "    </tr>\n",
              "    <tr>\n",
              "      <th>0004_01</th>\n",
              "      <td>0.0</td>\n",
              "      <td>False</td>\n",
              "      <td>F/1/S</td>\n",
              "      <td>0.0</td>\n",
              "      <td>16.0</td>\n",
              "      <td>False</td>\n",
              "      <td>Willy Santantines</td>\n",
              "      <td>True</td>\n",
              "      <td>4</td>\n",
              "      <td>1091.0</td>\n",
              "      <td>5.0</td>\n",
              "      <td>1</td>\n",
              "    </tr>\n",
              "  </tbody>\n",
              "</table>\n",
              "</div>\n",
              "    <div class=\"colab-df-buttons\">\n",
              "\n",
              "  <div class=\"colab-df-container\">\n",
              "    <button class=\"colab-df-convert\" onclick=\"convertToInteractive('df-66efdf1c-cbbf-4a54-99df-2fb8dfebb00b')\"\n",
              "            title=\"Convert this dataframe to an interactive table.\"\n",
              "            style=\"display:none;\">\n",
              "\n",
              "  <svg xmlns=\"http://www.w3.org/2000/svg\" height=\"24px\" viewBox=\"0 -960 960 960\">\n",
              "    <path d=\"M120-120v-720h720v720H120Zm60-500h600v-160H180v160Zm220 220h160v-160H400v160Zm0 220h160v-160H400v160ZM180-400h160v-160H180v160Zm440 0h160v-160H620v160ZM180-180h160v-160H180v160Zm440 0h160v-160H620v160Z\"/>\n",
              "  </svg>\n",
              "    </button>\n",
              "\n",
              "  <style>\n",
              "    .colab-df-container {\n",
              "      display:flex;\n",
              "      gap: 12px;\n",
              "    }\n",
              "\n",
              "    .colab-df-convert {\n",
              "      background-color: #E8F0FE;\n",
              "      border: none;\n",
              "      border-radius: 50%;\n",
              "      cursor: pointer;\n",
              "      display: none;\n",
              "      fill: #1967D2;\n",
              "      height: 32px;\n",
              "      padding: 0 0 0 0;\n",
              "      width: 32px;\n",
              "    }\n",
              "\n",
              "    .colab-df-convert:hover {\n",
              "      background-color: #E2EBFA;\n",
              "      box-shadow: 0px 1px 2px rgba(60, 64, 67, 0.3), 0px 1px 3px 1px rgba(60, 64, 67, 0.15);\n",
              "      fill: #174EA6;\n",
              "    }\n",
              "\n",
              "    .colab-df-buttons div {\n",
              "      margin-bottom: 4px;\n",
              "    }\n",
              "\n",
              "    [theme=dark] .colab-df-convert {\n",
              "      background-color: #3B4455;\n",
              "      fill: #D2E3FC;\n",
              "    }\n",
              "\n",
              "    [theme=dark] .colab-df-convert:hover {\n",
              "      background-color: #434B5C;\n",
              "      box-shadow: 0px 1px 3px 1px rgba(0, 0, 0, 0.15);\n",
              "      filter: drop-shadow(0px 1px 2px rgba(0, 0, 0, 0.3));\n",
              "      fill: #FFFFFF;\n",
              "    }\n",
              "  </style>\n",
              "\n",
              "    <script>\n",
              "      const buttonEl =\n",
              "        document.querySelector('#df-66efdf1c-cbbf-4a54-99df-2fb8dfebb00b button.colab-df-convert');\n",
              "      buttonEl.style.display =\n",
              "        google.colab.kernel.accessAllowed ? 'block' : 'none';\n",
              "\n",
              "      async function convertToInteractive(key) {\n",
              "        const element = document.querySelector('#df-66efdf1c-cbbf-4a54-99df-2fb8dfebb00b');\n",
              "        const dataTable =\n",
              "          await google.colab.kernel.invokeFunction('convertToInteractive',\n",
              "                                                    [key], {});\n",
              "        if (!dataTable) return;\n",
              "\n",
              "        const docLinkHtml = 'Like what you see? Visit the ' +\n",
              "          '<a target=\"_blank\" href=https://colab.research.google.com/notebooks/data_table.ipynb>data table notebook</a>'\n",
              "          + ' to learn more about interactive tables.';\n",
              "        element.innerHTML = '';\n",
              "        dataTable['output_type'] = 'display_data';\n",
              "        await google.colab.output.renderOutput(dataTable, element);\n",
              "        const docLink = document.createElement('div');\n",
              "        docLink.innerHTML = docLinkHtml;\n",
              "        element.appendChild(docLink);\n",
              "      }\n",
              "    </script>\n",
              "  </div>\n",
              "\n",
              "\n",
              "<div id=\"df-67bb129e-6d12-467a-9dfe-f83d51656f76\">\n",
              "  <button class=\"colab-df-quickchart\" onclick=\"quickchart('df-67bb129e-6d12-467a-9dfe-f83d51656f76')\"\n",
              "            title=\"Suggest charts\"\n",
              "            style=\"display:none;\">\n",
              "\n",
              "<svg xmlns=\"http://www.w3.org/2000/svg\" height=\"24px\"viewBox=\"0 0 24 24\"\n",
              "     width=\"24px\">\n",
              "    <g>\n",
              "        <path d=\"M19 3H5c-1.1 0-2 .9-2 2v14c0 1.1.9 2 2 2h14c1.1 0 2-.9 2-2V5c0-1.1-.9-2-2-2zM9 17H7v-7h2v7zm4 0h-2V7h2v10zm4 0h-2v-4h2v4z\"/>\n",
              "    </g>\n",
              "</svg>\n",
              "  </button>\n",
              "\n",
              "<style>\n",
              "  .colab-df-quickchart {\n",
              "      --bg-color: #E8F0FE;\n",
              "      --fill-color: #1967D2;\n",
              "      --hover-bg-color: #E2EBFA;\n",
              "      --hover-fill-color: #174EA6;\n",
              "      --disabled-fill-color: #AAA;\n",
              "      --disabled-bg-color: #DDD;\n",
              "  }\n",
              "\n",
              "  [theme=dark] .colab-df-quickchart {\n",
              "      --bg-color: #3B4455;\n",
              "      --fill-color: #D2E3FC;\n",
              "      --hover-bg-color: #434B5C;\n",
              "      --hover-fill-color: #FFFFFF;\n",
              "      --disabled-bg-color: #3B4455;\n",
              "      --disabled-fill-color: #666;\n",
              "  }\n",
              "\n",
              "  .colab-df-quickchart {\n",
              "    background-color: var(--bg-color);\n",
              "    border: none;\n",
              "    border-radius: 50%;\n",
              "    cursor: pointer;\n",
              "    display: none;\n",
              "    fill: var(--fill-color);\n",
              "    height: 32px;\n",
              "    padding: 0;\n",
              "    width: 32px;\n",
              "  }\n",
              "\n",
              "  .colab-df-quickchart:hover {\n",
              "    background-color: var(--hover-bg-color);\n",
              "    box-shadow: 0 1px 2px rgba(60, 64, 67, 0.3), 0 1px 3px 1px rgba(60, 64, 67, 0.15);\n",
              "    fill: var(--button-hover-fill-color);\n",
              "  }\n",
              "\n",
              "  .colab-df-quickchart-complete:disabled,\n",
              "  .colab-df-quickchart-complete:disabled:hover {\n",
              "    background-color: var(--disabled-bg-color);\n",
              "    fill: var(--disabled-fill-color);\n",
              "    box-shadow: none;\n",
              "  }\n",
              "\n",
              "  .colab-df-spinner {\n",
              "    border: 2px solid var(--fill-color);\n",
              "    border-color: transparent;\n",
              "    border-bottom-color: var(--fill-color);\n",
              "    animation:\n",
              "      spin 1s steps(1) infinite;\n",
              "  }\n",
              "\n",
              "  @keyframes spin {\n",
              "    0% {\n",
              "      border-color: transparent;\n",
              "      border-bottom-color: var(--fill-color);\n",
              "      border-left-color: var(--fill-color);\n",
              "    }\n",
              "    20% {\n",
              "      border-color: transparent;\n",
              "      border-left-color: var(--fill-color);\n",
              "      border-top-color: var(--fill-color);\n",
              "    }\n",
              "    30% {\n",
              "      border-color: transparent;\n",
              "      border-left-color: var(--fill-color);\n",
              "      border-top-color: var(--fill-color);\n",
              "      border-right-color: var(--fill-color);\n",
              "    }\n",
              "    40% {\n",
              "      border-color: transparent;\n",
              "      border-right-color: var(--fill-color);\n",
              "      border-top-color: var(--fill-color);\n",
              "    }\n",
              "    60% {\n",
              "      border-color: transparent;\n",
              "      border-right-color: var(--fill-color);\n",
              "    }\n",
              "    80% {\n",
              "      border-color: transparent;\n",
              "      border-right-color: var(--fill-color);\n",
              "      border-bottom-color: var(--fill-color);\n",
              "    }\n",
              "    90% {\n",
              "      border-color: transparent;\n",
              "      border-bottom-color: var(--fill-color);\n",
              "    }\n",
              "  }\n",
              "</style>\n",
              "\n",
              "  <script>\n",
              "    async function quickchart(key) {\n",
              "      const quickchartButtonEl =\n",
              "        document.querySelector('#' + key + ' button');\n",
              "      quickchartButtonEl.disabled = true;  // To prevent multiple clicks.\n",
              "      quickchartButtonEl.classList.add('colab-df-spinner');\n",
              "      try {\n",
              "        const charts = await google.colab.kernel.invokeFunction(\n",
              "            'suggestCharts', [key], {});\n",
              "      } catch (error) {\n",
              "        console.error('Error during call to suggestCharts:', error);\n",
              "      }\n",
              "      quickchartButtonEl.classList.remove('colab-df-spinner');\n",
              "      quickchartButtonEl.classList.add('colab-df-quickchart-complete');\n",
              "    }\n",
              "    (() => {\n",
              "      let quickchartButtonEl =\n",
              "        document.querySelector('#df-67bb129e-6d12-467a-9dfe-f83d51656f76 button');\n",
              "      quickchartButtonEl.style.display =\n",
              "        google.colab.kernel.accessAllowed ? 'block' : 'none';\n",
              "    })();\n",
              "  </script>\n",
              "</div>\n",
              "    </div>\n",
              "  </div>\n"
            ]
          },
          "metadata": {},
          "execution_count": 648
        }
      ]
    },
    {
      "cell_type": "code",
      "source": [
        "def get_side(cabin):\n",
        "  if cabin == 'unknown':\n",
        "    return np.nan\n",
        "\n",
        "  elif cabin[-1] == 'P':\n",
        "    return 0\n",
        "\n",
        "  elif cabin[-1] == 'S':\n",
        "    return 1\n",
        "\n",
        "train_data_side = list(map(get_side, train_data.cabin.fillna('unknown')))\n",
        "test_data_side = list(map(get_side, test_data.cabin.fillna('unknown')))\n",
        "\n",
        "train_data['cabin_side'] = train_data_side\n",
        "test_data['cabin_side'] = test_data_side"
      ],
      "metadata": {
        "id": "srOALU92p3P9"
      },
      "execution_count": 649,
      "outputs": []
    },
    {
      "cell_type": "code",
      "source": [
        "train_data = train_data.drop(columns=['cabin'])\n",
        "test_data = test_data.drop(columns=['cabin'])"
      ],
      "metadata": {
        "id": "faaeBLorqhBk"
      },
      "execution_count": 650,
      "outputs": []
    },
    {
      "cell_type": "code",
      "source": [
        "y = train_data.transported"
      ],
      "metadata": {
        "id": "YbVG2wXSqobc"
      },
      "execution_count": 651,
      "outputs": []
    },
    {
      "cell_type": "code",
      "source": [
        "train_data.info()"
      ],
      "metadata": {
        "colab": {
          "base_uri": "https://localhost:8080/"
        },
        "id": "zMFLarWJqsGh",
        "outputId": "6426c3fb-c679-4d02-a2a5-dd426b989e2f"
      },
      "execution_count": 652,
      "outputs": [
        {
          "output_type": "stream",
          "name": "stdout",
          "text": [
            "<class 'pandas.core.frame.DataFrame'>\n",
            "Index: 8693 entries, 0001_01 to 9280_02\n",
            "Data columns (total 12 columns):\n",
            " #   Column           Non-Null Count  Dtype  \n",
            "---  ------           --------------  -----  \n",
            " 0   homeplanet       8492 non-null   float64\n",
            " 1   cryosleep        8476 non-null   object \n",
            " 2   destination      8511 non-null   float64\n",
            " 3   age              8514 non-null   float64\n",
            " 4   vip              8490 non-null   object \n",
            " 5   name             8493 non-null   object \n",
            " 6   transported      8693 non-null   bool   \n",
            " 7   passenger_group  8693 non-null   int64  \n",
            " 8   total_bill       8693 non-null   float64\n",
            " 9   cabin_deck       8494 non-null   float64\n",
            " 10  cabin_num        8494 non-null   object \n",
            " 11  cabin_side       8494 non-null   float64\n",
            "dtypes: bool(1), float64(6), int64(1), object(4)\n",
            "memory usage: 823.5+ KB\n"
          ]
        }
      ]
    },
    {
      "cell_type": "code",
      "source": [
        "data_features = ['homeplanet', 'cryosleep', 'destination', 'age', 'vip', 'passenger_group', 'total_bill', 'cabin_deck', 'cabin_num', 'cabin_side']\n",
        "\n",
        "X = train_data[data_features]\n",
        "test_data = test_data[data_features]"
      ],
      "metadata": {
        "id": "uTdTYfx_vwMo"
      },
      "execution_count": 653,
      "outputs": []
    },
    {
      "cell_type": "markdown",
      "source": [
        "# Imputing missing data"
      ],
      "metadata": {
        "id": "qAj4yRwMxwCL"
      }
    },
    {
      "cell_type": "code",
      "source": [
        "from sklearn.experimental import enable_iterative_imputer\n",
        "from sklearn.impute import IterativeImputer\n",
        "\n",
        "iterimp = IterativeImputer(max_iter = 700)\n",
        "X.iloc[:, :] = iterimp.fit_transform(X)\n",
        "X.info()\n",
        "\n",
        "X"
      ],
      "metadata": {
        "colab": {
          "base_uri": "https://localhost:8080/",
          "height": 848
        },
        "id": "FWDqEoaTxyYM",
        "outputId": "78dbd7f1-042e-4c8c-ce25-ec2ff7fb74b0"
      },
      "execution_count": 654,
      "outputs": [
        {
          "output_type": "stream",
          "name": "stdout",
          "text": [
            "<class 'pandas.core.frame.DataFrame'>\n",
            "Index: 8693 entries, 0001_01 to 9280_02\n",
            "Data columns (total 10 columns):\n",
            " #   Column           Non-Null Count  Dtype  \n",
            "---  ------           --------------  -----  \n",
            " 0   homeplanet       8693 non-null   float64\n",
            " 1   cryosleep        8693 non-null   float64\n",
            " 2   destination      8693 non-null   float64\n",
            " 3   age              8693 non-null   float64\n",
            " 4   vip              8693 non-null   float64\n",
            " 5   passenger_group  8693 non-null   float64\n",
            " 6   total_bill       8693 non-null   float64\n",
            " 7   cabin_deck       8693 non-null   float64\n",
            " 8   cabin_num        8693 non-null   float64\n",
            " 9   cabin_side       8693 non-null   float64\n",
            "dtypes: float64(10)\n",
            "memory usage: 747.1+ KB\n"
          ]
        },
        {
          "output_type": "stream",
          "name": "stderr",
          "text": [
            "<ipython-input-654-8e8e1558ac6a>:5: DeprecationWarning:\n",
            "\n",
            "In a future version, `df.iloc[:, i] = newvals` will attempt to set the values inplace instead of always setting a new array. To retain the old behavior, use either `df[df.columns[i]] = newvals` or, if columns are non-unique, `df.isetitem(i, newvals)`\n",
            "\n"
          ]
        },
        {
          "output_type": "execute_result",
          "data": {
            "text/plain": [
              "             homeplanet  cryosleep  destination   age  vip  passenger_group  \\\n",
              "passengerid                                                                   \n",
              "0001_01             1.0        0.0          0.0  39.0  0.0              1.0   \n",
              "0002_01             0.0        0.0          0.0  24.0  0.0              2.0   \n",
              "0003_01             1.0        0.0          0.0  58.0  1.0              3.0   \n",
              "0003_02             1.0        0.0          0.0  33.0  0.0              3.0   \n",
              "0004_01             0.0        0.0          0.0  16.0  0.0              4.0   \n",
              "...                 ...        ...          ...   ...  ...              ...   \n",
              "9276_01             1.0        0.0          1.0  41.0  1.0           9276.0   \n",
              "9278_01             0.0        1.0          2.0  18.0  0.0           9278.0   \n",
              "9279_01             0.0        0.0          0.0  26.0  0.0           9279.0   \n",
              "9280_01             1.0        0.0          1.0  32.0  0.0           9280.0   \n",
              "9280_02             1.0        0.0          0.0  44.0  0.0           9280.0   \n",
              "\n",
              "             total_bill  cabin_deck  cabin_num  cabin_side  \n",
              "passengerid                                                 \n",
              "0001_01             0.0         1.0        0.0         0.0  \n",
              "0002_01           736.0         5.0        0.0         1.0  \n",
              "0003_01         10383.0         0.0        0.0         1.0  \n",
              "0003_02          5176.0         0.0        0.0         1.0  \n",
              "0004_01          1091.0         5.0        1.0         1.0  \n",
              "...                 ...         ...        ...         ...  \n",
              "9276_01          8536.0         0.0       98.0         0.0  \n",
              "9278_01             0.0         6.0     1499.0         1.0  \n",
              "9279_01          1873.0         6.0     1500.0         1.0  \n",
              "9280_01          4637.0         4.0      608.0         1.0  \n",
              "9280_02          4826.0         4.0      608.0         1.0  \n",
              "\n",
              "[8693 rows x 10 columns]"
            ],
            "text/html": [
              "\n",
              "  <div id=\"df-d28f6211-2b3a-4eac-b1b8-067c2326bffd\" class=\"colab-df-container\">\n",
              "    <div>\n",
              "<style scoped>\n",
              "    .dataframe tbody tr th:only-of-type {\n",
              "        vertical-align: middle;\n",
              "    }\n",
              "\n",
              "    .dataframe tbody tr th {\n",
              "        vertical-align: top;\n",
              "    }\n",
              "\n",
              "    .dataframe thead th {\n",
              "        text-align: right;\n",
              "    }\n",
              "</style>\n",
              "<table border=\"1\" class=\"dataframe\">\n",
              "  <thead>\n",
              "    <tr style=\"text-align: right;\">\n",
              "      <th></th>\n",
              "      <th>homeplanet</th>\n",
              "      <th>cryosleep</th>\n",
              "      <th>destination</th>\n",
              "      <th>age</th>\n",
              "      <th>vip</th>\n",
              "      <th>passenger_group</th>\n",
              "      <th>total_bill</th>\n",
              "      <th>cabin_deck</th>\n",
              "      <th>cabin_num</th>\n",
              "      <th>cabin_side</th>\n",
              "    </tr>\n",
              "    <tr>\n",
              "      <th>passengerid</th>\n",
              "      <th></th>\n",
              "      <th></th>\n",
              "      <th></th>\n",
              "      <th></th>\n",
              "      <th></th>\n",
              "      <th></th>\n",
              "      <th></th>\n",
              "      <th></th>\n",
              "      <th></th>\n",
              "      <th></th>\n",
              "    </tr>\n",
              "  </thead>\n",
              "  <tbody>\n",
              "    <tr>\n",
              "      <th>0001_01</th>\n",
              "      <td>1.0</td>\n",
              "      <td>0.0</td>\n",
              "      <td>0.0</td>\n",
              "      <td>39.0</td>\n",
              "      <td>0.0</td>\n",
              "      <td>1.0</td>\n",
              "      <td>0.0</td>\n",
              "      <td>1.0</td>\n",
              "      <td>0.0</td>\n",
              "      <td>0.0</td>\n",
              "    </tr>\n",
              "    <tr>\n",
              "      <th>0002_01</th>\n",
              "      <td>0.0</td>\n",
              "      <td>0.0</td>\n",
              "      <td>0.0</td>\n",
              "      <td>24.0</td>\n",
              "      <td>0.0</td>\n",
              "      <td>2.0</td>\n",
              "      <td>736.0</td>\n",
              "      <td>5.0</td>\n",
              "      <td>0.0</td>\n",
              "      <td>1.0</td>\n",
              "    </tr>\n",
              "    <tr>\n",
              "      <th>0003_01</th>\n",
              "      <td>1.0</td>\n",
              "      <td>0.0</td>\n",
              "      <td>0.0</td>\n",
              "      <td>58.0</td>\n",
              "      <td>1.0</td>\n",
              "      <td>3.0</td>\n",
              "      <td>10383.0</td>\n",
              "      <td>0.0</td>\n",
              "      <td>0.0</td>\n",
              "      <td>1.0</td>\n",
              "    </tr>\n",
              "    <tr>\n",
              "      <th>0003_02</th>\n",
              "      <td>1.0</td>\n",
              "      <td>0.0</td>\n",
              "      <td>0.0</td>\n",
              "      <td>33.0</td>\n",
              "      <td>0.0</td>\n",
              "      <td>3.0</td>\n",
              "      <td>5176.0</td>\n",
              "      <td>0.0</td>\n",
              "      <td>0.0</td>\n",
              "      <td>1.0</td>\n",
              "    </tr>\n",
              "    <tr>\n",
              "      <th>0004_01</th>\n",
              "      <td>0.0</td>\n",
              "      <td>0.0</td>\n",
              "      <td>0.0</td>\n",
              "      <td>16.0</td>\n",
              "      <td>0.0</td>\n",
              "      <td>4.0</td>\n",
              "      <td>1091.0</td>\n",
              "      <td>5.0</td>\n",
              "      <td>1.0</td>\n",
              "      <td>1.0</td>\n",
              "    </tr>\n",
              "    <tr>\n",
              "      <th>...</th>\n",
              "      <td>...</td>\n",
              "      <td>...</td>\n",
              "      <td>...</td>\n",
              "      <td>...</td>\n",
              "      <td>...</td>\n",
              "      <td>...</td>\n",
              "      <td>...</td>\n",
              "      <td>...</td>\n",
              "      <td>...</td>\n",
              "      <td>...</td>\n",
              "    </tr>\n",
              "    <tr>\n",
              "      <th>9276_01</th>\n",
              "      <td>1.0</td>\n",
              "      <td>0.0</td>\n",
              "      <td>1.0</td>\n",
              "      <td>41.0</td>\n",
              "      <td>1.0</td>\n",
              "      <td>9276.0</td>\n",
              "      <td>8536.0</td>\n",
              "      <td>0.0</td>\n",
              "      <td>98.0</td>\n",
              "      <td>0.0</td>\n",
              "    </tr>\n",
              "    <tr>\n",
              "      <th>9278_01</th>\n",
              "      <td>0.0</td>\n",
              "      <td>1.0</td>\n",
              "      <td>2.0</td>\n",
              "      <td>18.0</td>\n",
              "      <td>0.0</td>\n",
              "      <td>9278.0</td>\n",
              "      <td>0.0</td>\n",
              "      <td>6.0</td>\n",
              "      <td>1499.0</td>\n",
              "      <td>1.0</td>\n",
              "    </tr>\n",
              "    <tr>\n",
              "      <th>9279_01</th>\n",
              "      <td>0.0</td>\n",
              "      <td>0.0</td>\n",
              "      <td>0.0</td>\n",
              "      <td>26.0</td>\n",
              "      <td>0.0</td>\n",
              "      <td>9279.0</td>\n",
              "      <td>1873.0</td>\n",
              "      <td>6.0</td>\n",
              "      <td>1500.0</td>\n",
              "      <td>1.0</td>\n",
              "    </tr>\n",
              "    <tr>\n",
              "      <th>9280_01</th>\n",
              "      <td>1.0</td>\n",
              "      <td>0.0</td>\n",
              "      <td>1.0</td>\n",
              "      <td>32.0</td>\n",
              "      <td>0.0</td>\n",
              "      <td>9280.0</td>\n",
              "      <td>4637.0</td>\n",
              "      <td>4.0</td>\n",
              "      <td>608.0</td>\n",
              "      <td>1.0</td>\n",
              "    </tr>\n",
              "    <tr>\n",
              "      <th>9280_02</th>\n",
              "      <td>1.0</td>\n",
              "      <td>0.0</td>\n",
              "      <td>0.0</td>\n",
              "      <td>44.0</td>\n",
              "      <td>0.0</td>\n",
              "      <td>9280.0</td>\n",
              "      <td>4826.0</td>\n",
              "      <td>4.0</td>\n",
              "      <td>608.0</td>\n",
              "      <td>1.0</td>\n",
              "    </tr>\n",
              "  </tbody>\n",
              "</table>\n",
              "<p>8693 rows × 10 columns</p>\n",
              "</div>\n",
              "    <div class=\"colab-df-buttons\">\n",
              "\n",
              "  <div class=\"colab-df-container\">\n",
              "    <button class=\"colab-df-convert\" onclick=\"convertToInteractive('df-d28f6211-2b3a-4eac-b1b8-067c2326bffd')\"\n",
              "            title=\"Convert this dataframe to an interactive table.\"\n",
              "            style=\"display:none;\">\n",
              "\n",
              "  <svg xmlns=\"http://www.w3.org/2000/svg\" height=\"24px\" viewBox=\"0 -960 960 960\">\n",
              "    <path d=\"M120-120v-720h720v720H120Zm60-500h600v-160H180v160Zm220 220h160v-160H400v160Zm0 220h160v-160H400v160ZM180-400h160v-160H180v160Zm440 0h160v-160H620v160ZM180-180h160v-160H180v160Zm440 0h160v-160H620v160Z\"/>\n",
              "  </svg>\n",
              "    </button>\n",
              "\n",
              "  <style>\n",
              "    .colab-df-container {\n",
              "      display:flex;\n",
              "      gap: 12px;\n",
              "    }\n",
              "\n",
              "    .colab-df-convert {\n",
              "      background-color: #E8F0FE;\n",
              "      border: none;\n",
              "      border-radius: 50%;\n",
              "      cursor: pointer;\n",
              "      display: none;\n",
              "      fill: #1967D2;\n",
              "      height: 32px;\n",
              "      padding: 0 0 0 0;\n",
              "      width: 32px;\n",
              "    }\n",
              "\n",
              "    .colab-df-convert:hover {\n",
              "      background-color: #E2EBFA;\n",
              "      box-shadow: 0px 1px 2px rgba(60, 64, 67, 0.3), 0px 1px 3px 1px rgba(60, 64, 67, 0.15);\n",
              "      fill: #174EA6;\n",
              "    }\n",
              "\n",
              "    .colab-df-buttons div {\n",
              "      margin-bottom: 4px;\n",
              "    }\n",
              "\n",
              "    [theme=dark] .colab-df-convert {\n",
              "      background-color: #3B4455;\n",
              "      fill: #D2E3FC;\n",
              "    }\n",
              "\n",
              "    [theme=dark] .colab-df-convert:hover {\n",
              "      background-color: #434B5C;\n",
              "      box-shadow: 0px 1px 3px 1px rgba(0, 0, 0, 0.15);\n",
              "      filter: drop-shadow(0px 1px 2px rgba(0, 0, 0, 0.3));\n",
              "      fill: #FFFFFF;\n",
              "    }\n",
              "  </style>\n",
              "\n",
              "    <script>\n",
              "      const buttonEl =\n",
              "        document.querySelector('#df-d28f6211-2b3a-4eac-b1b8-067c2326bffd button.colab-df-convert');\n",
              "      buttonEl.style.display =\n",
              "        google.colab.kernel.accessAllowed ? 'block' : 'none';\n",
              "\n",
              "      async function convertToInteractive(key) {\n",
              "        const element = document.querySelector('#df-d28f6211-2b3a-4eac-b1b8-067c2326bffd');\n",
              "        const dataTable =\n",
              "          await google.colab.kernel.invokeFunction('convertToInteractive',\n",
              "                                                    [key], {});\n",
              "        if (!dataTable) return;\n",
              "\n",
              "        const docLinkHtml = 'Like what you see? Visit the ' +\n",
              "          '<a target=\"_blank\" href=https://colab.research.google.com/notebooks/data_table.ipynb>data table notebook</a>'\n",
              "          + ' to learn more about interactive tables.';\n",
              "        element.innerHTML = '';\n",
              "        dataTable['output_type'] = 'display_data';\n",
              "        await google.colab.output.renderOutput(dataTable, element);\n",
              "        const docLink = document.createElement('div');\n",
              "        docLink.innerHTML = docLinkHtml;\n",
              "        element.appendChild(docLink);\n",
              "      }\n",
              "    </script>\n",
              "  </div>\n",
              "\n",
              "\n",
              "<div id=\"df-eb44b474-a58e-4aa9-bef0-b7bc129da8db\">\n",
              "  <button class=\"colab-df-quickchart\" onclick=\"quickchart('df-eb44b474-a58e-4aa9-bef0-b7bc129da8db')\"\n",
              "            title=\"Suggest charts\"\n",
              "            style=\"display:none;\">\n",
              "\n",
              "<svg xmlns=\"http://www.w3.org/2000/svg\" height=\"24px\"viewBox=\"0 0 24 24\"\n",
              "     width=\"24px\">\n",
              "    <g>\n",
              "        <path d=\"M19 3H5c-1.1 0-2 .9-2 2v14c0 1.1.9 2 2 2h14c1.1 0 2-.9 2-2V5c0-1.1-.9-2-2-2zM9 17H7v-7h2v7zm4 0h-2V7h2v10zm4 0h-2v-4h2v4z\"/>\n",
              "    </g>\n",
              "</svg>\n",
              "  </button>\n",
              "\n",
              "<style>\n",
              "  .colab-df-quickchart {\n",
              "      --bg-color: #E8F0FE;\n",
              "      --fill-color: #1967D2;\n",
              "      --hover-bg-color: #E2EBFA;\n",
              "      --hover-fill-color: #174EA6;\n",
              "      --disabled-fill-color: #AAA;\n",
              "      --disabled-bg-color: #DDD;\n",
              "  }\n",
              "\n",
              "  [theme=dark] .colab-df-quickchart {\n",
              "      --bg-color: #3B4455;\n",
              "      --fill-color: #D2E3FC;\n",
              "      --hover-bg-color: #434B5C;\n",
              "      --hover-fill-color: #FFFFFF;\n",
              "      --disabled-bg-color: #3B4455;\n",
              "      --disabled-fill-color: #666;\n",
              "  }\n",
              "\n",
              "  .colab-df-quickchart {\n",
              "    background-color: var(--bg-color);\n",
              "    border: none;\n",
              "    border-radius: 50%;\n",
              "    cursor: pointer;\n",
              "    display: none;\n",
              "    fill: var(--fill-color);\n",
              "    height: 32px;\n",
              "    padding: 0;\n",
              "    width: 32px;\n",
              "  }\n",
              "\n",
              "  .colab-df-quickchart:hover {\n",
              "    background-color: var(--hover-bg-color);\n",
              "    box-shadow: 0 1px 2px rgba(60, 64, 67, 0.3), 0 1px 3px 1px rgba(60, 64, 67, 0.15);\n",
              "    fill: var(--button-hover-fill-color);\n",
              "  }\n",
              "\n",
              "  .colab-df-quickchart-complete:disabled,\n",
              "  .colab-df-quickchart-complete:disabled:hover {\n",
              "    background-color: var(--disabled-bg-color);\n",
              "    fill: var(--disabled-fill-color);\n",
              "    box-shadow: none;\n",
              "  }\n",
              "\n",
              "  .colab-df-spinner {\n",
              "    border: 2px solid var(--fill-color);\n",
              "    border-color: transparent;\n",
              "    border-bottom-color: var(--fill-color);\n",
              "    animation:\n",
              "      spin 1s steps(1) infinite;\n",
              "  }\n",
              "\n",
              "  @keyframes spin {\n",
              "    0% {\n",
              "      border-color: transparent;\n",
              "      border-bottom-color: var(--fill-color);\n",
              "      border-left-color: var(--fill-color);\n",
              "    }\n",
              "    20% {\n",
              "      border-color: transparent;\n",
              "      border-left-color: var(--fill-color);\n",
              "      border-top-color: var(--fill-color);\n",
              "    }\n",
              "    30% {\n",
              "      border-color: transparent;\n",
              "      border-left-color: var(--fill-color);\n",
              "      border-top-color: var(--fill-color);\n",
              "      border-right-color: var(--fill-color);\n",
              "    }\n",
              "    40% {\n",
              "      border-color: transparent;\n",
              "      border-right-color: var(--fill-color);\n",
              "      border-top-color: var(--fill-color);\n",
              "    }\n",
              "    60% {\n",
              "      border-color: transparent;\n",
              "      border-right-color: var(--fill-color);\n",
              "    }\n",
              "    80% {\n",
              "      border-color: transparent;\n",
              "      border-right-color: var(--fill-color);\n",
              "      border-bottom-color: var(--fill-color);\n",
              "    }\n",
              "    90% {\n",
              "      border-color: transparent;\n",
              "      border-bottom-color: var(--fill-color);\n",
              "    }\n",
              "  }\n",
              "</style>\n",
              "\n",
              "  <script>\n",
              "    async function quickchart(key) {\n",
              "      const quickchartButtonEl =\n",
              "        document.querySelector('#' + key + ' button');\n",
              "      quickchartButtonEl.disabled = true;  // To prevent multiple clicks.\n",
              "      quickchartButtonEl.classList.add('colab-df-spinner');\n",
              "      try {\n",
              "        const charts = await google.colab.kernel.invokeFunction(\n",
              "            'suggestCharts', [key], {});\n",
              "      } catch (error) {\n",
              "        console.error('Error during call to suggestCharts:', error);\n",
              "      }\n",
              "      quickchartButtonEl.classList.remove('colab-df-spinner');\n",
              "      quickchartButtonEl.classList.add('colab-df-quickchart-complete');\n",
              "    }\n",
              "    (() => {\n",
              "      let quickchartButtonEl =\n",
              "        document.querySelector('#df-eb44b474-a58e-4aa9-bef0-b7bc129da8db button');\n",
              "      quickchartButtonEl.style.display =\n",
              "        google.colab.kernel.accessAllowed ? 'block' : 'none';\n",
              "    })();\n",
              "  </script>\n",
              "</div>\n",
              "    </div>\n",
              "  </div>\n"
            ]
          },
          "metadata": {},
          "execution_count": 654
        }
      ]
    },
    {
      "cell_type": "code",
      "source": [
        "test_data.iloc[:, :] = iterimp.fit_transform(test_data)\n",
        "test_data.info()"
      ],
      "metadata": {
        "colab": {
          "base_uri": "https://localhost:8080/"
        },
        "id": "q_cic7sCyzaD",
        "outputId": "9f542b9d-56ce-4af1-cfc9-751d28c34df5"
      },
      "execution_count": 655,
      "outputs": [
        {
          "output_type": "stream",
          "name": "stdout",
          "text": [
            "<class 'pandas.core.frame.DataFrame'>\n",
            "Index: 4277 entries, 0013_01 to 9277_01\n",
            "Data columns (total 10 columns):\n",
            " #   Column           Non-Null Count  Dtype  \n",
            "---  ------           --------------  -----  \n",
            " 0   homeplanet       4277 non-null   float64\n",
            " 1   cryosleep        4277 non-null   float64\n",
            " 2   destination      4277 non-null   float64\n",
            " 3   age              4277 non-null   float64\n",
            " 4   vip              4277 non-null   float64\n",
            " 5   passenger_group  4277 non-null   float64\n",
            " 6   total_bill       4277 non-null   float64\n",
            " 7   cabin_deck       4277 non-null   float64\n",
            " 8   cabin_num        4277 non-null   float64\n",
            " 9   cabin_side       4277 non-null   float64\n",
            "dtypes: float64(10)\n",
            "memory usage: 367.6+ KB\n"
          ]
        },
        {
          "output_type": "stream",
          "name": "stderr",
          "text": [
            "<ipython-input-655-238ae025b0aa>:1: DeprecationWarning:\n",
            "\n",
            "In a future version, `df.iloc[:, i] = newvals` will attempt to set the values inplace instead of always setting a new array. To retain the old behavior, use either `df[df.columns[i]] = newvals` or, if columns are non-unique, `df.isetitem(i, newvals)`\n",
            "\n"
          ]
        }
      ]
    },
    {
      "cell_type": "code",
      "source": [
        "type_dict = {\n",
        "    'homeplanet': int,\n",
        "    'cryosleep': bool,\n",
        "    'destination': int,\n",
        "    'age': int,\n",
        "    'vip': bool,\n",
        "    'passenger_group': int,\n",
        "    'cabin_deck': int,\n",
        "    'cabin_num': int,\n",
        "    'cabin_side': int\n",
        "}\n",
        "\n",
        "X = X.astype(type_dict)\n",
        "X.info()"
      ],
      "metadata": {
        "colab": {
          "base_uri": "https://localhost:8080/"
        },
        "id": "xOXyy0BMy8Sl",
        "outputId": "2e772799-f196-4c40-930a-5f59d8a51d79"
      },
      "execution_count": 656,
      "outputs": [
        {
          "output_type": "stream",
          "name": "stdout",
          "text": [
            "<class 'pandas.core.frame.DataFrame'>\n",
            "Index: 8693 entries, 0001_01 to 9280_02\n",
            "Data columns (total 10 columns):\n",
            " #   Column           Non-Null Count  Dtype  \n",
            "---  ------           --------------  -----  \n",
            " 0   homeplanet       8693 non-null   int64  \n",
            " 1   cryosleep        8693 non-null   bool   \n",
            " 2   destination      8693 non-null   int64  \n",
            " 3   age              8693 non-null   int64  \n",
            " 4   vip              8693 non-null   bool   \n",
            " 5   passenger_group  8693 non-null   int64  \n",
            " 6   total_bill       8693 non-null   float64\n",
            " 7   cabin_deck       8693 non-null   int64  \n",
            " 8   cabin_num        8693 non-null   int64  \n",
            " 9   cabin_side       8693 non-null   int64  \n",
            "dtypes: bool(2), float64(1), int64(7)\n",
            "memory usage: 628.2+ KB\n"
          ]
        }
      ]
    },
    {
      "cell_type": "code",
      "source": [
        "test_data = test_data.astype(type_dict)"
      ],
      "metadata": {
        "id": "oghhIw670DIv"
      },
      "execution_count": 657,
      "outputs": []
    },
    {
      "cell_type": "code",
      "source": [
        "test_data.info()"
      ],
      "metadata": {
        "colab": {
          "base_uri": "https://localhost:8080/"
        },
        "id": "7qhR57Kx0I62",
        "outputId": "cbb65eb3-2c83-4502-e93c-9836557d122a"
      },
      "execution_count": 658,
      "outputs": [
        {
          "output_type": "stream",
          "name": "stdout",
          "text": [
            "<class 'pandas.core.frame.DataFrame'>\n",
            "Index: 4277 entries, 0013_01 to 9277_01\n",
            "Data columns (total 10 columns):\n",
            " #   Column           Non-Null Count  Dtype  \n",
            "---  ------           --------------  -----  \n",
            " 0   homeplanet       4277 non-null   int64  \n",
            " 1   cryosleep        4277 non-null   bool   \n",
            " 2   destination      4277 non-null   int64  \n",
            " 3   age              4277 non-null   int64  \n",
            " 4   vip              4277 non-null   bool   \n",
            " 5   passenger_group  4277 non-null   int64  \n",
            " 6   total_bill       4277 non-null   float64\n",
            " 7   cabin_deck       4277 non-null   int64  \n",
            " 8   cabin_num        4277 non-null   int64  \n",
            " 9   cabin_side       4277 non-null   int64  \n",
            "dtypes: bool(2), float64(1), int64(7)\n",
            "memory usage: 309.1+ KB\n"
          ]
        }
      ]
    },
    {
      "cell_type": "markdown",
      "source": [
        "# Creating a model"
      ],
      "metadata": {
        "id": "29yHUdjO0SZD"
      }
    },
    {
      "cell_type": "code",
      "source": [
        "from sklearn.model_selection import train_test_split\n",
        "X_train, X_test, y_train, y_test = train_test_split(X, y, test_size = 0.3)"
      ],
      "metadata": {
        "id": "uC-2xDBg0Uzj"
      },
      "execution_count": 659,
      "outputs": []
    },
    {
      "cell_type": "code",
      "source": [
        "print(X_train.shape, y_train.shape)\n",
        "print(X_test.shape, y_test.shape)"
      ],
      "metadata": {
        "colab": {
          "base_uri": "https://localhost:8080/"
        },
        "id": "6Hn6XAmC0ca7",
        "outputId": "b193b467-f979-4064-c587-7f9dbd90446f"
      },
      "execution_count": 660,
      "outputs": [
        {
          "output_type": "stream",
          "name": "stdout",
          "text": [
            "(6085, 10) (6085,)\n",
            "(2608, 10) (2608,)\n"
          ]
        }
      ]
    },
    {
      "cell_type": "code",
      "source": [
        "from sklearn.linear_model import LogisticRegression\n",
        "reg = LogisticRegression(max_iter = 500, solver='newton-cholesky')\n",
        "\n",
        "reg.fit(X_train, y_train)\n",
        "\n",
        "y_pred_test = reg.predict(X_test)"
      ],
      "metadata": {
        "id": "h40MOFfQ02o9"
      },
      "execution_count": 661,
      "outputs": []
    },
    {
      "cell_type": "markdown",
      "source": [
        "Accuracy test"
      ],
      "metadata": {
        "id": "FxWT7unC1CnW"
      }
    },
    {
      "cell_type": "code",
      "source": [
        "import seaborn as sns\n",
        "import matplotlib.pyplot as plt\n",
        "\n",
        "sns.set()\n",
        "np.set_printoptions(suppress=True)"
      ],
      "metadata": {
        "id": "I6-YeugG49qw"
      },
      "execution_count": 662,
      "outputs": []
    },
    {
      "cell_type": "code",
      "source": [
        "from sklearn.metrics import accuracy_score\n",
        "acc = accuracy_score(y_test, y_pred_test)\n",
        "acc"
      ],
      "metadata": {
        "id": "tKrQKfxm6oRk",
        "outputId": "94d0fd7c-ea1b-4688-d4b8-8e9a1ed1b48d",
        "colab": {
          "base_uri": "https://localhost:8080/"
        }
      },
      "execution_count": 663,
      "outputs": [
        {
          "output_type": "execute_result",
          "data": {
            "text/plain": [
              "0.7105061349693251"
            ]
          },
          "metadata": {},
          "execution_count": 663
        }
      ]
    },
    {
      "cell_type": "code",
      "source": [
        "from sklearn.metrics import confusion_matrix\n",
        "import plotly.figure_factory as ff\n",
        "\n",
        "cm = confusion_matrix(y_test, y_pred_test)\n",
        "\n",
        "def plot_confusion_matrix(cm):\n",
        "  cm = cm[::-1]\n",
        "  cm = pd.DataFrame(cm, columns=['pred_0', 'pred_1'], index=['true_1', 'true_0'])\n",
        "\n",
        "  fig = ff.create_annotated_heatmap(z=cm.values, x=list(cm.columns), y=list(cm.index),\n",
        "                                    colorscale='ice')\n",
        "  fig.update_layout(width=400, height=400, title=f'Confusion Matrix, Accuracy: {acc:.4f}', font_size = 12)\n",
        "  fig.show()\n",
        "\n",
        "plot_confusion_matrix(cm)\n"
      ],
      "metadata": {
        "id": "vbVC1UQ05TaQ",
        "outputId": "c94073a6-c05d-4407-b2bb-b829b549c13f",
        "colab": {
          "base_uri": "https://localhost:8080/",
          "height": 417
        }
      },
      "execution_count": 664,
      "outputs": [
        {
          "output_type": "display_data",
          "data": {
            "text/html": [
              "<html>\n",
              "<head><meta charset=\"utf-8\" /></head>\n",
              "<body>\n",
              "    <div>            <script src=\"https://cdnjs.cloudflare.com/ajax/libs/mathjax/2.7.5/MathJax.js?config=TeX-AMS-MML_SVG\"></script><script type=\"text/javascript\">if (window.MathJax && window.MathJax.Hub && window.MathJax.Hub.Config) {window.MathJax.Hub.Config({SVG: {font: \"STIX-Web\"}});}</script>                <script type=\"text/javascript\">window.PlotlyConfig = {MathJaxConfig: 'local'};</script>\n",
              "        <script charset=\"utf-8\" src=\"https://cdn.plot.ly/plotly-2.24.1.min.js\"></script>                <div id=\"361daabf-d0a2-453c-9037-b466af9109b1\" class=\"plotly-graph-div\" style=\"height:400px; width:400px;\"></div>            <script type=\"text/javascript\">                                    window.PLOTLYENV=window.PLOTLYENV || {};                                    if (document.getElementById(\"361daabf-d0a2-453c-9037-b466af9109b1\")) {                    Plotly.newPlot(                        \"361daabf-d0a2-453c-9037-b466af9109b1\",                        [{\"colorscale\":[[0.0,\"rgb(3, 5, 18)\"],[0.09090909090909091,\"rgb(25, 25, 51)\"],[0.18181818181818182,\"rgb(44, 42, 87)\"],[0.2727272727272727,\"rgb(58, 60, 125)\"],[0.36363636363636365,\"rgb(62, 83, 160)\"],[0.45454545454545453,\"rgb(62, 109, 178)\"],[0.5454545454545454,\"rgb(72, 134, 187)\"],[0.6363636363636364,\"rgb(89, 159, 196)\"],[0.7272727272727273,\"rgb(114, 184, 205)\"],[0.8181818181818182,\"rgb(149, 207, 216)\"],[0.9090909090909091,\"rgb(192, 229, 232)\"],[1.0,\"rgb(234, 252, 253)\"]],\"reversescale\":false,\"showscale\":false,\"x\":[\"pred_0\",\"pred_1\"],\"y\":[\"true_1\",\"true_0\"],\"z\":[[489,844],[1009,266]],\"type\":\"heatmap\"}],                        {\"annotations\":[{\"font\":{\"color\":\"#FFFFFF\"},\"showarrow\":false,\"text\":\"489\",\"x\":\"pred_0\",\"xref\":\"x\",\"y\":\"true_1\",\"yref\":\"y\"},{\"font\":{\"color\":\"#000000\"},\"showarrow\":false,\"text\":\"844\",\"x\":\"pred_1\",\"xref\":\"x\",\"y\":\"true_1\",\"yref\":\"y\"},{\"font\":{\"color\":\"#000000\"},\"showarrow\":false,\"text\":\"1009\",\"x\":\"pred_0\",\"xref\":\"x\",\"y\":\"true_0\",\"yref\":\"y\"},{\"font\":{\"color\":\"#FFFFFF\"},\"showarrow\":false,\"text\":\"266\",\"x\":\"pred_1\",\"xref\":\"x\",\"y\":\"true_0\",\"yref\":\"y\"}],\"xaxis\":{\"dtick\":1,\"gridcolor\":\"rgb(0, 0, 0)\",\"side\":\"top\",\"ticks\":\"\"},\"yaxis\":{\"dtick\":1,\"ticks\":\"\",\"ticksuffix\":\"  \"},\"template\":{\"data\":{\"histogram2dcontour\":[{\"type\":\"histogram2dcontour\",\"colorbar\":{\"outlinewidth\":0,\"ticks\":\"\"},\"colorscale\":[[0.0,\"#0d0887\"],[0.1111111111111111,\"#46039f\"],[0.2222222222222222,\"#7201a8\"],[0.3333333333333333,\"#9c179e\"],[0.4444444444444444,\"#bd3786\"],[0.5555555555555556,\"#d8576b\"],[0.6666666666666666,\"#ed7953\"],[0.7777777777777778,\"#fb9f3a\"],[0.8888888888888888,\"#fdca26\"],[1.0,\"#f0f921\"]]}],\"choropleth\":[{\"type\":\"choropleth\",\"colorbar\":{\"outlinewidth\":0,\"ticks\":\"\"}}],\"histogram2d\":[{\"type\":\"histogram2d\",\"colorbar\":{\"outlinewidth\":0,\"ticks\":\"\"},\"colorscale\":[[0.0,\"#0d0887\"],[0.1111111111111111,\"#46039f\"],[0.2222222222222222,\"#7201a8\"],[0.3333333333333333,\"#9c179e\"],[0.4444444444444444,\"#bd3786\"],[0.5555555555555556,\"#d8576b\"],[0.6666666666666666,\"#ed7953\"],[0.7777777777777778,\"#fb9f3a\"],[0.8888888888888888,\"#fdca26\"],[1.0,\"#f0f921\"]]}],\"heatmap\":[{\"type\":\"heatmap\",\"colorbar\":{\"outlinewidth\":0,\"ticks\":\"\"},\"colorscale\":[[0.0,\"#0d0887\"],[0.1111111111111111,\"#46039f\"],[0.2222222222222222,\"#7201a8\"],[0.3333333333333333,\"#9c179e\"],[0.4444444444444444,\"#bd3786\"],[0.5555555555555556,\"#d8576b\"],[0.6666666666666666,\"#ed7953\"],[0.7777777777777778,\"#fb9f3a\"],[0.8888888888888888,\"#fdca26\"],[1.0,\"#f0f921\"]]}],\"heatmapgl\":[{\"type\":\"heatmapgl\",\"colorbar\":{\"outlinewidth\":0,\"ticks\":\"\"},\"colorscale\":[[0.0,\"#0d0887\"],[0.1111111111111111,\"#46039f\"],[0.2222222222222222,\"#7201a8\"],[0.3333333333333333,\"#9c179e\"],[0.4444444444444444,\"#bd3786\"],[0.5555555555555556,\"#d8576b\"],[0.6666666666666666,\"#ed7953\"],[0.7777777777777778,\"#fb9f3a\"],[0.8888888888888888,\"#fdca26\"],[1.0,\"#f0f921\"]]}],\"contourcarpet\":[{\"type\":\"contourcarpet\",\"colorbar\":{\"outlinewidth\":0,\"ticks\":\"\"}}],\"contour\":[{\"type\":\"contour\",\"colorbar\":{\"outlinewidth\":0,\"ticks\":\"\"},\"colorscale\":[[0.0,\"#0d0887\"],[0.1111111111111111,\"#46039f\"],[0.2222222222222222,\"#7201a8\"],[0.3333333333333333,\"#9c179e\"],[0.4444444444444444,\"#bd3786\"],[0.5555555555555556,\"#d8576b\"],[0.6666666666666666,\"#ed7953\"],[0.7777777777777778,\"#fb9f3a\"],[0.8888888888888888,\"#fdca26\"],[1.0,\"#f0f921\"]]}],\"surface\":[{\"type\":\"surface\",\"colorbar\":{\"outlinewidth\":0,\"ticks\":\"\"},\"colorscale\":[[0.0,\"#0d0887\"],[0.1111111111111111,\"#46039f\"],[0.2222222222222222,\"#7201a8\"],[0.3333333333333333,\"#9c179e\"],[0.4444444444444444,\"#bd3786\"],[0.5555555555555556,\"#d8576b\"],[0.6666666666666666,\"#ed7953\"],[0.7777777777777778,\"#fb9f3a\"],[0.8888888888888888,\"#fdca26\"],[1.0,\"#f0f921\"]]}],\"mesh3d\":[{\"type\":\"mesh3d\",\"colorbar\":{\"outlinewidth\":0,\"ticks\":\"\"}}],\"scatter\":[{\"fillpattern\":{\"fillmode\":\"overlay\",\"size\":10,\"solidity\":0.2},\"type\":\"scatter\"}],\"parcoords\":[{\"type\":\"parcoords\",\"line\":{\"colorbar\":{\"outlinewidth\":0,\"ticks\":\"\"}}}],\"scatterpolargl\":[{\"type\":\"scatterpolargl\",\"marker\":{\"colorbar\":{\"outlinewidth\":0,\"ticks\":\"\"}}}],\"bar\":[{\"error_x\":{\"color\":\"#2a3f5f\"},\"error_y\":{\"color\":\"#2a3f5f\"},\"marker\":{\"line\":{\"color\":\"#E5ECF6\",\"width\":0.5},\"pattern\":{\"fillmode\":\"overlay\",\"size\":10,\"solidity\":0.2}},\"type\":\"bar\"}],\"scattergeo\":[{\"type\":\"scattergeo\",\"marker\":{\"colorbar\":{\"outlinewidth\":0,\"ticks\":\"\"}}}],\"scatterpolar\":[{\"type\":\"scatterpolar\",\"marker\":{\"colorbar\":{\"outlinewidth\":0,\"ticks\":\"\"}}}],\"histogram\":[{\"marker\":{\"pattern\":{\"fillmode\":\"overlay\",\"size\":10,\"solidity\":0.2}},\"type\":\"histogram\"}],\"scattergl\":[{\"type\":\"scattergl\",\"marker\":{\"colorbar\":{\"outlinewidth\":0,\"ticks\":\"\"}}}],\"scatter3d\":[{\"type\":\"scatter3d\",\"line\":{\"colorbar\":{\"outlinewidth\":0,\"ticks\":\"\"}},\"marker\":{\"colorbar\":{\"outlinewidth\":0,\"ticks\":\"\"}}}],\"scattermapbox\":[{\"type\":\"scattermapbox\",\"marker\":{\"colorbar\":{\"outlinewidth\":0,\"ticks\":\"\"}}}],\"scatterternary\":[{\"type\":\"scatterternary\",\"marker\":{\"colorbar\":{\"outlinewidth\":0,\"ticks\":\"\"}}}],\"scattercarpet\":[{\"type\":\"scattercarpet\",\"marker\":{\"colorbar\":{\"outlinewidth\":0,\"ticks\":\"\"}}}],\"carpet\":[{\"aaxis\":{\"endlinecolor\":\"#2a3f5f\",\"gridcolor\":\"white\",\"linecolor\":\"white\",\"minorgridcolor\":\"white\",\"startlinecolor\":\"#2a3f5f\"},\"baxis\":{\"endlinecolor\":\"#2a3f5f\",\"gridcolor\":\"white\",\"linecolor\":\"white\",\"minorgridcolor\":\"white\",\"startlinecolor\":\"#2a3f5f\"},\"type\":\"carpet\"}],\"table\":[{\"cells\":{\"fill\":{\"color\":\"#EBF0F8\"},\"line\":{\"color\":\"white\"}},\"header\":{\"fill\":{\"color\":\"#C8D4E3\"},\"line\":{\"color\":\"white\"}},\"type\":\"table\"}],\"barpolar\":[{\"marker\":{\"line\":{\"color\":\"#E5ECF6\",\"width\":0.5},\"pattern\":{\"fillmode\":\"overlay\",\"size\":10,\"solidity\":0.2}},\"type\":\"barpolar\"}],\"pie\":[{\"automargin\":true,\"type\":\"pie\"}]},\"layout\":{\"autotypenumbers\":\"strict\",\"colorway\":[\"#636efa\",\"#EF553B\",\"#00cc96\",\"#ab63fa\",\"#FFA15A\",\"#19d3f3\",\"#FF6692\",\"#B6E880\",\"#FF97FF\",\"#FECB52\"],\"font\":{\"color\":\"#2a3f5f\"},\"hovermode\":\"closest\",\"hoverlabel\":{\"align\":\"left\"},\"paper_bgcolor\":\"white\",\"plot_bgcolor\":\"#E5ECF6\",\"polar\":{\"bgcolor\":\"#E5ECF6\",\"angularaxis\":{\"gridcolor\":\"white\",\"linecolor\":\"white\",\"ticks\":\"\"},\"radialaxis\":{\"gridcolor\":\"white\",\"linecolor\":\"white\",\"ticks\":\"\"}},\"ternary\":{\"bgcolor\":\"#E5ECF6\",\"aaxis\":{\"gridcolor\":\"white\",\"linecolor\":\"white\",\"ticks\":\"\"},\"baxis\":{\"gridcolor\":\"white\",\"linecolor\":\"white\",\"ticks\":\"\"},\"caxis\":{\"gridcolor\":\"white\",\"linecolor\":\"white\",\"ticks\":\"\"}},\"coloraxis\":{\"colorbar\":{\"outlinewidth\":0,\"ticks\":\"\"}},\"colorscale\":{\"sequential\":[[0.0,\"#0d0887\"],[0.1111111111111111,\"#46039f\"],[0.2222222222222222,\"#7201a8\"],[0.3333333333333333,\"#9c179e\"],[0.4444444444444444,\"#bd3786\"],[0.5555555555555556,\"#d8576b\"],[0.6666666666666666,\"#ed7953\"],[0.7777777777777778,\"#fb9f3a\"],[0.8888888888888888,\"#fdca26\"],[1.0,\"#f0f921\"]],\"sequentialminus\":[[0.0,\"#0d0887\"],[0.1111111111111111,\"#46039f\"],[0.2222222222222222,\"#7201a8\"],[0.3333333333333333,\"#9c179e\"],[0.4444444444444444,\"#bd3786\"],[0.5555555555555556,\"#d8576b\"],[0.6666666666666666,\"#ed7953\"],[0.7777777777777778,\"#fb9f3a\"],[0.8888888888888888,\"#fdca26\"],[1.0,\"#f0f921\"]],\"diverging\":[[0,\"#8e0152\"],[0.1,\"#c51b7d\"],[0.2,\"#de77ae\"],[0.3,\"#f1b6da\"],[0.4,\"#fde0ef\"],[0.5,\"#f7f7f7\"],[0.6,\"#e6f5d0\"],[0.7,\"#b8e186\"],[0.8,\"#7fbc41\"],[0.9,\"#4d9221\"],[1,\"#276419\"]]},\"xaxis\":{\"gridcolor\":\"white\",\"linecolor\":\"white\",\"ticks\":\"\",\"title\":{\"standoff\":15},\"zerolinecolor\":\"white\",\"automargin\":true,\"zerolinewidth\":2},\"yaxis\":{\"gridcolor\":\"white\",\"linecolor\":\"white\",\"ticks\":\"\",\"title\":{\"standoff\":15},\"zerolinecolor\":\"white\",\"automargin\":true,\"zerolinewidth\":2},\"scene\":{\"xaxis\":{\"backgroundcolor\":\"#E5ECF6\",\"gridcolor\":\"white\",\"linecolor\":\"white\",\"showbackground\":true,\"ticks\":\"\",\"zerolinecolor\":\"white\",\"gridwidth\":2},\"yaxis\":{\"backgroundcolor\":\"#E5ECF6\",\"gridcolor\":\"white\",\"linecolor\":\"white\",\"showbackground\":true,\"ticks\":\"\",\"zerolinecolor\":\"white\",\"gridwidth\":2},\"zaxis\":{\"backgroundcolor\":\"#E5ECF6\",\"gridcolor\":\"white\",\"linecolor\":\"white\",\"showbackground\":true,\"ticks\":\"\",\"zerolinecolor\":\"white\",\"gridwidth\":2}},\"shapedefaults\":{\"line\":{\"color\":\"#2a3f5f\"}},\"annotationdefaults\":{\"arrowcolor\":\"#2a3f5f\",\"arrowhead\":0,\"arrowwidth\":1},\"geo\":{\"bgcolor\":\"white\",\"landcolor\":\"#E5ECF6\",\"subunitcolor\":\"white\",\"showland\":true,\"showlakes\":true,\"lakecolor\":\"white\"},\"title\":{\"x\":0.05},\"mapbox\":{\"style\":\"light\"}}},\"font\":{\"size\":12},\"width\":400,\"height\":400,\"title\":{\"text\":\"Confusion Matrix, Accuracy: 0.7105\"}},                        {\"responsive\": true}                    ).then(function(){\n",
              "                            \n",
              "var gd = document.getElementById('361daabf-d0a2-453c-9037-b466af9109b1');\n",
              "var x = new MutationObserver(function (mutations, observer) {{\n",
              "        var display = window.getComputedStyle(gd).display;\n",
              "        if (!display || display === 'none') {{\n",
              "            console.log([gd, 'removed!']);\n",
              "            Plotly.purge(gd);\n",
              "            observer.disconnect();\n",
              "        }}\n",
              "}});\n",
              "\n",
              "// Listen for the removal of the full notebook cells\n",
              "var notebookContainer = gd.closest('#notebook-container');\n",
              "if (notebookContainer) {{\n",
              "    x.observe(notebookContainer, {childList: true});\n",
              "}}\n",
              "\n",
              "// Listen for the clearing of the current output cell\n",
              "var outputEl = gd.closest('.output');\n",
              "if (outputEl) {{\n",
              "    x.observe(outputEl, {childList: true});\n",
              "}}\n",
              "\n",
              "                        })                };                            </script>        </div>\n",
              "</body>\n",
              "</html>"
            ]
          },
          "metadata": {}
        }
      ]
    }
  ]
}